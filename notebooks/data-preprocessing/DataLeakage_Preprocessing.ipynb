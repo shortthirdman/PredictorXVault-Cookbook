{
 "cells": [
  {
   "cell_type": "markdown",
   "id": "7c81d9a2-564c-4acd-a4bf-6420eb519a8b",
   "metadata": {},
   "source": [
    "## [Data Leakage in Preprocessing](https://towardsdatascience.com/data-leakage-in-preprocessing-explained-a-visual-guide-with-code-examples-33cbf07507b7/)\n",
    "\n",
    "> 10 sneaky ways your preprocessing pipeline leaks"
   ]
  },
  {
   "cell_type": "markdown",
   "id": "cc577b93-4cfb-4eda-bc1f-b4770d114642",
   "metadata": {},
   "source": [
    "Data leakage happens when information from test data sneaks (or leaks) into your training data during data preparation steps. This often happens during routine data processing tasks without you noticing it. When this happens, the model learns from test data it wasn’t supposed to see, making the test results misleading."
   ]
  },
  {
   "cell_type": "markdown",
   "id": "caf8c204-776b-49fe-bc30-d26b97e8e748",
   "metadata": {},
   "source": [
    "Data leakage is a common problem in machine learning that occurs when data that’s not supposed to be seen by a model (like test data or future data) is accidentally used to train the model. This can lead to the model overfitting and not performing well on new, unseen data."
   ]
  },
  {
   "cell_type": "code",
   "execution_count": null,
   "id": "49fbdb0a-3b6b-4271-9f6d-e62729a4ae8e",
   "metadata": {},
   "outputs": [],
   "source": [
    "!pip install -q pandas numpy matplotlib scikit-learn imbalanced-learn"
   ]
  },
  {
   "cell_type": "markdown",
   "id": "726080ed-31ac-40ac-83a1-25aafb17f307",
   "metadata": {},
   "source": [
    "#### Data Preprocessing + Classification (with Leakage)"
   ]
  },
  {
   "cell_type": "code",
   "execution_count": null,
   "id": "1a785f85-43ab-4cd5-b9be-97e9a0f79f1a",
   "metadata": {},
   "outputs": [],
   "source": [
    "import pandas as pd\n",
    "import numpy as np\n",
    "from sklearn.compose import ColumnTransformer\n",
    "from sklearn.preprocessing import StandardScaler, OrdinalEncoder, KBinsDiscretizer\n",
    "from sklearn.impute import SimpleImputer\n",
    "from sklearn.model_selection import train_test_split\n",
    "from sklearn.tree import DecisionTreeClassifier\n",
    "from sklearn.metrics import accuracy_score\n",
    "from imblearn.pipeline import Pipeline\n",
    "from imblearn.over_sampling import SMOTE\n",
    "\n",
    "import warnings\n",
    "warnings.filterwarnings('ignore')\n",
    "\n",
    "# Create dataset\n",
    "dataset_dict = {\n",
    "    'Outlook': ['sunny', 'sunny', 'overcast', 'rain', 'rain', 'rain', 'overcast', 'sunny', 'sunny', 'rain', 'sunny', 'overcast', 'overcast', 'rain', 'sunny', 'overcast', 'rain', 'sunny', 'sunny', 'rain', 'overcast', 'rain', 'sunny', 'overcast', 'sunny', 'overcast', 'rain', 'overcast'],\n",
    "    'Temperature': [85.0, 80.0, 83.0, 70.0, 68.0, 65.0, 64.0, 72.0, 69.0, 75.0, 75.0, 72.0, 81.0, 71.0, 81.0, 74.0, 76.0, 78.0, 82.0, 67.0, 85.0, 73.0, 88.0, 77.0, 79.0, 80.0, 66.0, 84.0],\n",
    "    'Humidity': [85.0, 90.0, 78.0, 96.0, 80.0, 70.0, 65.0, 95.0, 70.0, 80.0, 70.0, 90.0, 75.0, 80.0, 88.0, 92.0, 85.0, 75.0, 92.0, 90.0, 85.0, 88.0, 65.0, 70.0, 60.0, 95.0, 70.0, 78.0],\n",
    "    'Wind': [False, True, False, False, False, True, True, False, False, False, True, True, False, True, True, False, False, True, False, True, True, False, True, False, False, True, False, False],\n",
    "    'Play': ['No', 'No', 'Yes', 'Yes', 'Yes', 'No', 'Yes', 'No', 'Yes', 'Yes', 'Yes', 'Yes', 'Yes', 'No', 'No', 'Yes', 'Yes', 'No', 'No', 'No', 'Yes', 'Yes', 'Yes', 'Yes', 'Yes', 'Yes', 'No', 'Yes']\n",
    "}\n",
    "\n",
    "df = pd.DataFrame(dataset_dict)\n",
    "\n",
    "print(df.head())\n",
    "\n",
    "X, y = df.drop('Play', axis=1), df['Play']\n",
    "\n",
    "# Preprocess AND apply SMOTE to ALL data first (causing leakage)\n",
    "preprocessor = ColumnTransformer(transformers=[\n",
    "    ('temp_transform', Pipeline([\n",
    "        ('imputer', SimpleImputer(strategy='mean')),\n",
    "        ('scaler', StandardScaler()),\n",
    "        ('discretizer', KBinsDiscretizer(n_bins=4, encode='ordinal'))\n",
    "    ]), ['Temperature']),\n",
    "    ('humid_transform', Pipeline([\n",
    "        ('imputer', SimpleImputer(strategy='mean')),\n",
    "        ('scaler', StandardScaler()),\n",
    "        ('discretizer', KBinsDiscretizer(n_bins=4, encode='ordinal'))\n",
    "    ]), ['Humidity']),\n",
    "    ('outlook_transform', OrdinalEncoder(handle_unknown='use_encoded_value', unknown_value=-1), \n",
    "     ['Outlook']),\n",
    "    ('wind_transform', Pipeline([\n",
    "        ('imputer', SimpleImputer(strategy='constant', fill_value=False)),\n",
    "        ('scaler', StandardScaler())\n",
    "    ]), ['Wind'])\n",
    "])\n",
    "\n",
    "# Transform all data and apply SMOTE before splitting (leakage!)\n",
    "X_transformed = preprocessor.fit_transform(X)\n",
    "smote = SMOTE(random_state=42)\n",
    "X_resampled, y_resampled = smote.fit_resample(X_transformed, y)\n",
    "\n",
    "# Split the already transformed and resampled data\n",
    "X_train, X_test, y_train, y_test = train_test_split(X_resampled, y_resampled, test_size=0.5, shuffle=False)\n",
    "\n",
    "# Train a classifier\n",
    "clf = DecisionTreeClassifier(random_state=42)\n",
    "clf.fit(X_train, y_train)\n",
    "\n",
    "print(f\"Testing Accuracy (with leakage): {accuracy_score(y_test, clf.predict(X_test)):.2%}\")"
   ]
  },
  {
   "cell_type": "markdown",
   "id": "49b0170f-cf84-4b9c-a7bc-1067e48e89f3",
   "metadata": {},
   "source": [
    "#### Data Preprocessing + Classification (without leakage)"
   ]
  },
  {
   "cell_type": "code",
   "execution_count": null,
   "id": "d4b0ee7e-56ef-4201-b5af-511b63b17c3d",
   "metadata": {},
   "outputs": [],
   "source": [
    "import pandas as pd\n",
    "import numpy as np\n",
    "\n",
    "from sklearn.compose import ColumnTransformer\n",
    "from sklearn.preprocessing import StandardScaler, OrdinalEncoder, KBinsDiscretizer\n",
    "from sklearn.impute import SimpleImputer\n",
    "from sklearn.model_selection import train_test_split\n",
    "from sklearn.tree import DecisionTreeClassifier\n",
    "from sklearn.metrics import accuracy_score\n",
    "from imblearn.pipeline import Pipeline\n",
    "from imblearn.over_sampling import SMOTE\n",
    "\n",
    "import warnings\n",
    "warnings.filterwarnings('ignore')\n",
    "\n",
    "# Create dataset\n",
    "dataset_dict = {\n",
    "    'Outlook': ['sunny', 'sunny', 'overcast', 'rain', 'rain', 'rain', 'overcast', 'sunny', 'sunny', 'rain', 'sunny', 'overcast', 'overcast', 'rain', 'sunny', 'overcast', 'rain', 'sunny', 'sunny', 'rain', 'overcast', 'rain', 'sunny', 'overcast', 'sunny', 'overcast', 'rain', 'overcast'],\n",
    "    'Temperature': [85.0, 80.0, 83.0, 70.0, 68.0, 65.0, 64.0, 72.0, 69.0, 75.0, 75.0, 72.0, 81.0, 71.0, 81.0, 74.0, 76.0, 78.0, 82.0, 67.0, 85.0, 73.0, 88.0, 77.0, 79.0, 80.0, 66.0, 84.0],\n",
    "    'Humidity': [85.0, 90.0, 78.0, 96.0, 80.0, 70.0, 65.0, 95.0, 70.0, 80.0, 70.0, 90.0, 75.0, 80.0, 88.0, 92.0, 85.0, 75.0, 92.0, 90.0, 85.0, 88.0, 65.0, 70.0, 60.0, 95.0, 70.0, 78.0],\n",
    "    'Wind': [False, True, False, False, False, True, True, False, False, False, True, True, False, True, True, False, False, True, False, True, True, False, True, False, False, True, False, False],\n",
    "    'Play': ['No', 'No', 'Yes', 'Yes', 'Yes', 'No', 'Yes', 'No', 'Yes', 'Yes', 'Yes', 'Yes', 'Yes', 'No', 'No', 'Yes', 'Yes', 'No', 'No', 'No', 'Yes', 'Yes', 'Yes', 'Yes', 'Yes', 'Yes', 'No', 'Yes']\n",
    "}\n",
    "df = pd.DataFrame(dataset_dict)\n",
    "X, y = df.drop('Play', axis=1), df['Play']\n",
    "\n",
    "# Split first (before any processing)\n",
    "X_train, X_test, y_train, y_test = train_test_split(X, y, test_size=0.5, shuffle=False)\n",
    "\n",
    "# Create pipeline with preprocessing, SMOTE, and classifier\n",
    "pipeline = Pipeline([\n",
    "    ('preprocessor', ColumnTransformer(transformers=[\n",
    "        ('temp_transform', Pipeline([\n",
    "            ('imputer', SimpleImputer(strategy='mean')),\n",
    "            ('scaler', StandardScaler()),\n",
    "            ('discretizer', KBinsDiscretizer(n_bins=4, encode='ordinal'))\n",
    "        ]), ['Temperature']),\n",
    "        ('humid_transform', Pipeline([\n",
    "            ('imputer', SimpleImputer(strategy='mean')),\n",
    "            ('scaler', StandardScaler()),\n",
    "            ('discretizer', KBinsDiscretizer(n_bins=4, encode='ordinal'))\n",
    "        ]), ['Humidity']),\n",
    "        ('outlook_transform', OrdinalEncoder(handle_unknown='use_encoded_value', unknown_value=-1), \n",
    "         ['Outlook']),\n",
    "        ('wind_transform', Pipeline([\n",
    "            ('imputer', SimpleImputer(strategy='constant', fill_value=False)),\n",
    "            ('scaler', StandardScaler())\n",
    "        ]), ['Wind'])\n",
    "    ])),\n",
    "    ('smote', SMOTE(random_state=42)),\n",
    "    ('classifier', DecisionTreeClassifier(random_state=42))\n",
    "])\n",
    "\n",
    "# Fit pipeline on training data only\n",
    "pipeline.fit(X_train, y_train)\n",
    "\n",
    "print(f\"Training Accuracy: {accuracy_score(y_train, pipeline.predict(X_train)):.2%}\")\n",
    "print(f\"Testing Accuracy: {accuracy_score(y_test, pipeline.predict(X_test)):.2%}\")"
   ]
  },
  {
   "cell_type": "code",
   "execution_count": null,
   "id": "854913d1-6178-4de6-861c-4857e95d96b8",
   "metadata": {},
   "outputs": [],
   "source": []
  }
 ],
 "metadata": {
  "kernelspec": {
   "display_name": "Python 3 (ipykernel)",
   "language": "python",
   "name": "python3"
  },
  "language_info": {
   "codemirror_mode": {
    "name": "ipython",
    "version": 3
   },
   "file_extension": ".py",
   "mimetype": "text/x-python",
   "name": "python",
   "nbconvert_exporter": "python",
   "pygments_lexer": "ipython3",
   "version": "3.12.4"
  }
 },
 "nbformat": 4,
 "nbformat_minor": 5
}

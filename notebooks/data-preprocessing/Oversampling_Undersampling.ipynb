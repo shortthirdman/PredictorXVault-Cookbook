{
 "cells": [
  {
   "cell_type": "markdown",
   "id": "0c71d775-b9b3-40e1-91b2-4d4a45fdd0df",
   "metadata": {},
   "source": [
    "## [Oversampling and Undersampling](https://towardsdatascience.com/oversampling-and-undersampling-explained-a-visual-guide-with-mini-2d-dataset-1155577d3091/)\n",
    "\n",
    "> Artificially generating and deleting data for the greater good"
   ]
  },
  {
   "cell_type": "markdown",
   "id": "f32e8a66-b477-49c0-a7fe-5bdcbc3fcb90",
   "metadata": {},
   "source": [
    "#### Oversampling\n",
    "Oversampling make a dataset more balanced when one group has a lot fewer examples than the other. The way it works is by making more copies of the examples from the smaller group. This helps the dataset represent both groups more equally."
   ]
  },
  {
   "cell_type": "markdown",
   "id": "dc6c32d6-0511-4055-bab3-d9d0c7d3e985",
   "metadata": {},
   "source": [
    "#### Undersampling\n",
    "On the other hand, undersampling works by deleting some of the examples from the bigger group until it’s almost the same in size to the smaller group. In the end, the dataset is smaller, sure, but both groups will have a more similar number of examples."
   ]
  },
  {
   "cell_type": "markdown",
   "id": "8af57525-4222-4058-b84b-1fb31f434cef",
   "metadata": {},
   "source": [
    "#### Hybrid Sampling\n",
    "Combining oversampling and undersampling can be called \"hybrid sampling\". It increases the size of the smaller group by making more copies of its examples and also, it removes some of example of the bigger group by removing some of its examples. It tries to create a dataset that is more balanced – not too big and not too small."
   ]
  },
  {
   "cell_type": "code",
   "execution_count": null,
   "id": "e12e54d5-5ef2-4f44-9801-09fde48c23e4",
   "metadata": {},
   "outputs": [],
   "source": [
    "!pip install -q pandas numpy scikit-learn matplotlib imbalanced-learn"
   ]
  },
  {
   "cell_type": "code",
   "execution_count": null,
   "id": "8ab02223-451b-431a-aaa4-b8cef65b909d",
   "metadata": {},
   "outputs": [],
   "source": [
    "import pandas as pd\n",
    "import numpy as np\n",
    "\n",
    "from imblearn.over_sampling import SMOTE, ADASYN, RandomOverSampler\n",
    "from imblearn.under_sampling import TomekLinks, NearMiss, RandomUnderSampler\n",
    "from imblearn.combine import SMOTETomek, SMOTEENN\n",
    "\n",
    "import warnings\n",
    "warnings.filterwarnings('ignore')\n",
    "\n",
    "# Create a DataFrame from the dataset\n",
    "data = {\n",
    "    'Temperature': [1, 0, 1, 3, 2, 3, 1, 3, 4],\n",
    "    'Humidity': [0, 2, 1, 1, 3, 2, 3, 4, 4],\n",
    "    'Activity': ['A', 'A', 'B', 'B', 'B', 'C', 'C', 'C', 'C']\n",
    "}\n",
    "df = pd.DataFrame(data)\n",
    "\n",
    "# Split the data into features (X) and target (y)\n",
    "X, y = df[['Temperature', 'Humidity']], df['Activity'].astype('category')\n",
    "\n",
    "df.head()"
   ]
  },
  {
   "cell_type": "code",
   "execution_count": null,
   "id": "becb3ed9-a5b5-43ab-b533-deb7426c4db1",
   "metadata": {},
   "outputs": [],
   "source": [
    "print(\"Features(X):\\n\", X)\n",
    "\n",
    "print(\"Target(y)\\n\", y)"
   ]
  },
  {
   "cell_type": "code",
   "execution_count": null,
   "id": "7168f58a-5f30-4008-9898-e5baf3721113",
   "metadata": {},
   "outputs": [],
   "source": [
    "# Random OverSampler for oversampling\n",
    "sampler = RandomOverSampler()\n",
    "\n",
    "# Apply the resampling method\n",
    "X_resampled, y_resampled = sampler.fit_resample(X, y)\n",
    "\n",
    "# Print the resampled dataset\n",
    "print(\"Resampled dataset (Random OverSampler): \")\n",
    "print(X_resampled)\n",
    "print(y_resampled)"
   ]
  },
  {
   "cell_type": "code",
   "execution_count": null,
   "id": "f30609f9-bf7b-40c1-9efb-ab8e56eb5c08",
   "metadata": {},
   "outputs": [],
   "source": [
    "# SMOTE for oversampling\n",
    "sampler = SMOTE()\n",
    "\n",
    "# Apply the resampling method\n",
    "X_resampled, y_resampled = sampler.fit_resample(X, y)\n",
    "\n",
    "# Print the resampled dataset\n",
    "print(\"Resampled dataset (SMOTE): \")\n",
    "print(X_resampled)\n",
    "print(y_resampled)"
   ]
  },
  {
   "cell_type": "code",
   "execution_count": null,
   "id": "bc4d0c80-26b6-479d-90d2-023736a016d8",
   "metadata": {},
   "outputs": [],
   "source": [
    "# ADASYN for oversampling\n",
    "sampler = ADASYN()\n",
    "\n",
    "# Apply the resampling method\n",
    "X_resampled, y_resampled = sampler.fit_resample(X, y)\n",
    "\n",
    "# Print the resampled dataset\n",
    "print(\"Resampled dataset (ADASYN): \")\n",
    "print(X_resampled)\n",
    "print(y_resampled)"
   ]
  },
  {
   "cell_type": "code",
   "execution_count": null,
   "id": "f2199d6b-8f22-4ad1-8290-7e0bc7d3f349",
   "metadata": {},
   "outputs": [],
   "source": [
    "# Random UnderSampler for undersampling\n",
    "sampler = RandomUnderSampler()\n",
    "\n",
    "# Apply the resampling method\n",
    "X_resampled, y_resampled = sampler.fit_resample(X, y)\n",
    "\n",
    "# Print the resampled dataset\n",
    "print(\"Resampled dataset (Random UnderSampler): \")\n",
    "print(X_resampled)\n",
    "print(y_resampled)"
   ]
  },
  {
   "cell_type": "code",
   "execution_count": null,
   "id": "2d06a6d6-2a71-45d0-92de-c2f312e3d0d4",
   "metadata": {},
   "outputs": [],
   "source": [
    "# Tomek Links for undersampling\n",
    "sampler = TomekLinks()\n",
    "\n",
    "# Apply the resampling method\n",
    "X_resampled, y_resampled = sampler.fit_resample(X, y)\n",
    "\n",
    "# Print the resampled dataset\n",
    "print(\"Resampled dataset (TomekLinks): \")\n",
    "print(X_resampled)\n",
    "print(y_resampled)"
   ]
  },
  {
   "cell_type": "code",
   "execution_count": null,
   "id": "edcf480a-d96d-4b33-9426-95b00faaee2e",
   "metadata": {},
   "outputs": [],
   "source": [
    "# NearMiss-1 for undersampling\n",
    "sampler = NearMiss(version=1)\n",
    "\n",
    "# Apply the resampling method\n",
    "X_resampled, y_resampled = sampler.fit_resample(X, y)\n",
    "\n",
    "# Print the resampled dataset\n",
    "print(\"Resampled dataset (NearMiss-1): \")\n",
    "print(X_resampled)\n",
    "print(y_resampled)"
   ]
  },
  {
   "cell_type": "code",
   "execution_count": null,
   "id": "c515f355-1eaf-4e5f-ae77-aefec454c584",
   "metadata": {},
   "outputs": [],
   "source": [
    "# ENN for undersampling\n",
    "sampler = EditedNearestNeighbours()\n",
    "\n",
    "# Apply the resampling method\n",
    "X_resampled, y_resampled = sampler.fit_resample(X, y)\n",
    "\n",
    "# Print the resampled dataset\n",
    "print(\"Resampled dataset (ENN): \")\n",
    "print(X_resampled)\n",
    "print(y_resampled)"
   ]
  },
  {
   "cell_type": "code",
   "execution_count": null,
   "id": "2607b4d3-f3bf-42b2-af14-ed17a780256c",
   "metadata": {},
   "outputs": [],
   "source": [
    "# SMOTETomek for a combination of oversampling &amp; undersampling\n",
    "sampler = SMOTETomek()\n",
    "\n",
    "# Apply the resampling method\n",
    "X_resampled, y_resampled = sampler.fit_resample(X, y)\n",
    "\n",
    "# Print the resampled dataset\n",
    "print(\"Resampled dataset (SMOTETomek): \")\n",
    "print(X_resampled)\n",
    "print(y_resampled)"
   ]
  },
  {
   "cell_type": "code",
   "execution_count": null,
   "id": "2cf68de2-b49b-4b1a-b6cd-7afab7cb9d98",
   "metadata": {},
   "outputs": [],
   "source": [
    "# ENN for undersampling\n",
    "sampler = EditedNearestNeighbours()\n",
    "\n",
    "# Apply the resampling method\n",
    "X_resampled, y_resampled = sampler.fit_resample(X, y)\n",
    "\n",
    "# Print the resampled dataset\n",
    "print(\"Resampled dataset (ENN Undersampling): \")\n",
    "print(X_resampled)\n",
    "print(y_resampled)"
   ]
  },
  {
   "cell_type": "code",
   "execution_count": null,
   "id": "89f0f733-f433-4af0-9cef-e011c2b4cde2",
   "metadata": {},
   "outputs": [],
   "source": [
    "# SMOTEENN for a combination of oversampling &amp; undersampling\n",
    "sampler = SMOTEENN()                \n",
    "\n",
    "# Apply the resampling method\n",
    "X_resampled, y_resampled = sampler.fit_resample(X, y)\n",
    "\n",
    "# Print the resampled dataset\n",
    "print(\"Resampled dataset (SMOTEENN): \")\n",
    "print(X_resampled)\n",
    "print(y_resampled)"
   ]
  }
 ],
 "metadata": {
  "kernelspec": {
   "display_name": "Python 3 (ipykernel)",
   "language": "python",
   "name": "python3"
  },
  "language_info": {
   "codemirror_mode": {
    "name": "ipython",
    "version": 3
   },
   "file_extension": ".py",
   "mimetype": "text/x-python",
   "name": "python",
   "nbconvert_exporter": "python",
   "pygments_lexer": "ipython3",
   "version": "3.12.4"
  }
 },
 "nbformat": 4,
 "nbformat_minor": 5
}

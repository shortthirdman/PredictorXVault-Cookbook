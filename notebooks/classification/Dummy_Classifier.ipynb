{
 "cells": [
  {
   "cell_type": "markdown",
   "id": "d42263e0-aaf9-44ef-94f8-f08208298fc6",
   "metadata": {},
   "source": [
    "### Dummy Classifier\n",
    "\n",
    "> Setting the bar in machine learning with simple baseline models"
   ]
  },
  {
   "cell_type": "markdown",
   "id": "8c0a4bd0-a7dd-4c76-85c0-a68b32466b15",
   "metadata": {},
   "source": [
    "A dummy classifier is a simple machine learning model that makes predictions using basic rules, without actually learning from the input data. It serves as a baseline for comparing the performance of more complex models. The dummy classifier helps us understand if our sophisticated models are actually learning useful patterns or just guessing."
   ]
  },
  {
   "cell_type": "markdown",
   "id": "7fb2fc4a-b338-463c-8d5d-2aa5af147602",
   "metadata": {},
   "source": [
    "The **dummy classifier** operates on simple strategies to make predictions. These strategies don’t involve any actual learning from the data. Instead, they use basic rules like:\n",
    "\n",
    "- Always predicting the most frequent class\n",
    "- Randomly predicting a class based on the training set’s class distribution\n",
    "- Always predicting a specific class"
   ]
  },
  {
   "cell_type": "markdown",
   "id": "07b15f65-4cba-45a8-a7b6-3b3b4b3b00af",
   "metadata": {},
   "source": [
    "#### Training Steps"
   ]
  },
  {
   "cell_type": "markdown",
   "id": "74dd0ea2-29b0-432b-a877-41433c44e3dc",
   "metadata": {},
   "source": [
    "##### 1. Select Strategy\n",
    "\n",
    "Choose one of the following strategies:\n",
    "\n",
    "- **Stratified**: Makes random guesses based on the original class distribution.\n",
    "- **Most Frequent**: Always picks the most common class.\n",
    "- **Uniform**: Randomly picks any class.\n",
    "\n",
    "##### 2. Collect Training Labels\n",
    "\n",
    "Collect the class labels from the training dataset to determine the strategy parameters.\n",
    "\n",
    "##### 3. Apply Strategy to Test Data\n",
    "Use the chosen strategy to generate a list of predicted labels for your test data."
   ]
  },
  {
   "cell_type": "markdown",
   "id": "6b3448a4-3e80-44c9-8900-83b5f7ed3df7",
   "metadata": {},
   "source": [
    "#### Evaluate the Model"
   ]
  },
  {
   "cell_type": "code",
   "execution_count": 1,
   "id": "dac54071-677a-4f89-9878-5f9e6a76818a",
   "metadata": {},
   "outputs": [
    {
     "name": "stdout",
     "output_type": "stream",
     "text": [
      "Label     : [0, 1, 1, 0, 0, 0, 1, 1, 1, 1, 1, 1, 0, 1]\n",
      "Prediction: [np.int64(1), np.int64(1), np.int64(1), np.int64(1), np.int64(1), np.int64(1), np.int64(1), np.int64(1), np.int64(1), np.int64(1), np.int64(1), np.int64(1), np.int64(1), np.int64(1)]\n",
      "Dummy Classifier Accuracy: 64.29%\n"
     ]
    }
   ],
   "source": [
    "# Import libraries\n",
    "from sklearn.model_selection import train_test_split\n",
    "import pandas as pd\n",
    "from sklearn.dummy import DummyClassifier\n",
    "\n",
    "# Choose a strategy for your DummyClassifier (e.g., 'most_frequent', 'stratified', etc.)\n",
    "strategy = 'most_frequent'\n",
    "\n",
    "# Make a dataset\n",
    "dataset_dict = {\n",
    "    'Outlook': ['sunny', 'sunny', 'overcast', 'rain', 'rain', 'rain', 'overcast', 'sunny', 'sunny', 'rain', 'sunny', 'overcast', 'overcast', 'rain', 'sunny', 'overcast', 'rain', 'sunny', 'sunny', 'rain', 'overcast', 'rain', 'sunny', 'overcast', 'sunny', 'overcast', 'rain', 'overcast'],\n",
    "    'Temperature': [85.0, 80.0, 83.0, 70.0, 68.0, 65.0, 64.0, 72.0, 69.0, 75.0, 75.0, 72.0, 81.0, 71.0, 81.0, 74.0, 76.0, 78.0, 82.0, 67.0, 85.0, 73.0, 88.0, 77.0, 79.0, 80.0, 66.0, 84.0],\n",
    "    'Humidity': [85.0, 90.0, 78.0, 96.0, 80.0, 70.0, 65.0, 95.0, 70.0, 80.0, 70.0, 90.0, 75.0, 80.0, 88.0, 92.0, 85.0, 75.0, 92.0, 90.0, 85.0, 88.0, 65.0, 70.0, 60.0, 95.0, 70.0, 78.0],\n",
    "    'Wind': [False, True, False, False, False, True, True, False, False, False, True, True, False, True, True, False, False, True, False, True, True, False, True, False, False, True, False, False],\n",
    "    'Play': ['No', 'No', 'Yes', 'Yes', 'Yes', 'No', 'Yes', 'No', 'Yes', 'Yes', 'Yes', 'Yes', 'Yes', 'No', 'No', 'Yes', 'Yes', 'No', 'No', 'No', 'Yes', 'Yes', 'Yes', 'Yes', 'Yes', 'Yes', 'No', 'Yes']\n",
    "}\n",
    "df = pd.DataFrame(dataset_dict)\n",
    "\n",
    "# One-hot Encode 'Outlook' Column\n",
    "df = pd.get_dummies(df, columns=['Outlook'],  prefix='', prefix_sep='', dtype=int)\n",
    "\n",
    "# Convert 'Windy' (bool) and 'Play' (binary) Columns to 0 and 1\n",
    "df['Wind'] = df['Wind'].astype(int)\n",
    "df['Play'] = (df['Play'] == 'Yes').astype(int)\n",
    "\n",
    "# Set feature matrix X and target vector y\n",
    "X, y = df.drop(columns='Play'), df['Play']\n",
    "\n",
    "# Split the data into training and testing sets\n",
    "X_train, X_test, y_train, y_test = train_test_split(X, y, train_size=0.5, shuffle=False)\n",
    "\n",
    "# Initialize the DummyClassifier\n",
    "dummy_clf = DummyClassifier(strategy=strategy)\n",
    "\n",
    "# \"Train\" the DummyClassifier (although no real training happens)\n",
    "dummy_clf.fit(X_train, y_train)\n",
    "\n",
    "# Use the DummyClassifier to make predictions\n",
    "y_pred = dummy_clf.predict(X_test)\n",
    "print(\"Label     :\",list(y_test))\n",
    "print(\"Prediction:\",list(y_pred))\n",
    "\n",
    "# Evaluate the DummyClassifier's accuracy\n",
    "from sklearn.metrics import accuracy_score\n",
    "\n",
    "accuracy = accuracy_score(y_test, y_pred)\n",
    "print(f\"Dummy Classifier Accuracy: {round(accuracy,4)*100}%\")"
   ]
  },
  {
   "cell_type": "markdown",
   "id": "fbf86e8e-91cd-4351-98c4-fedba4041eb8",
   "metadata": {},
   "source": [
    "#### Key Parameters\n",
    "\n",
    "While dummy classifiers are simple, they do have a few important parameters:\n",
    "\n",
    "1. **Strategy**: This determines how the classifier makes predictions. Common options include:\n",
    "  \n",
    "  - **'most_frequent'**: Always predicts the most common class in the training set.\n",
    "  - **'stratified'**: Generates predictions based on the training set’s class distribution.\n",
    "  - **'uniform'**: Generates predictions uniformly at random.\n",
    "  - **'constant'**: Always predicts a specified class.\n",
    "\n",
    "2. **Random State**: If using a strategy that involves randomness (like ‘stratified’ or ‘uniform’), this parameter ensures reproducibility of results.\n",
    "\n",
    "3. **Constant**: When using the ‘constant’ strategy, this parameter specifies which class to always predict."
   ]
  },
  {
   "cell_type": "markdown",
   "id": "789fc759-50a7-4ed3-9aba-561e2247aabf",
   "metadata": {},
   "source": [
    "#### Pros and Cons\n",
    "Like any tool in machine learning, dummy classifiers have their strengths and limitations.\n",
    "\n",
    "* **Pros**:\n",
    "\n",
    "1. Simplicity: Easy to understand and implement.\n",
    "2. Baseline Performance: Provides a minimum performance benchmark for other models.\n",
    "3. Overfitting Check: Helps identify when complex models are overfitting by comparing their performance to the dummy classifier.\n",
    "4. Quick to Train and Predict: Requires minimal computational resources.\n",
    "\n",
    "* **Cons**:\n",
    "\n",
    "1. Limited Predictive Power: By design, it doesn’t learn from the data, so its predictions are often inaccurate.\n",
    "2. No Feature Importance: It doesn’t provide insights into which features are most important for predictions.\n",
    "3. Not Suitable for Complex Problems: In real-world scenarios with intricate patterns, dummy classifiers are too simplistic to be useful on their own."
   ]
  },
  {
   "cell_type": "code",
   "execution_count": null,
   "id": "893a01b0-a8a1-4821-bcd8-38ea55795c22",
   "metadata": {},
   "outputs": [],
   "source": []
  }
 ],
 "metadata": {
  "kernelspec": {
   "display_name": "Python 3 (ipykernel)",
   "language": "python",
   "name": "python3"
  },
  "language_info": {
   "codemirror_mode": {
    "name": "ipython",
    "version": 3
   },
   "file_extension": ".py",
   "mimetype": "text/x-python",
   "name": "python",
   "nbconvert_exporter": "python",
   "pygments_lexer": "ipython3",
   "version": "3.12.4"
  }
 },
 "nbformat": 4,
 "nbformat_minor": 5
}

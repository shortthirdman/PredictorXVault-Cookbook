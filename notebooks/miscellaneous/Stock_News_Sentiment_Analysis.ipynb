{
 "cells": [
  {
   "cell_type": "markdown",
   "id": "17412a40-b2e8-4d63-a44f-8ee83398f1bf",
   "metadata": {},
   "source": [
    "### [Stock News Sentiment Analysis Using FinBERT and Yahoo Finance](https://wire.insiderfinance.io/stock-news-sentiment-analysis-using-finbert-and-yahoo-finance-792b7e0cc8c5)\n",
    "\n",
    "> A Practical Python Guide to Sentiment Analysis on Financial News\n",
    "\n",
    "News plays a major role in how people and markets react to stocks. A single article or press release can cause a sharp change in stock price.\n",
    "\n",
    "Understanding the sentiment behind financial news can help investors make better decisions."
   ]
  },
  {
   "cell_type": "markdown",
   "id": "b444b23f-86e1-42b0-97b9-527119c391ea",
   "metadata": {},
   "source": [
    "#### [FinBERT](https://huggingface.co/ProsusAI/finbert)\n",
    "\n",
    "`FinBERT` is a version of the `BERT` model that has been fine-tuned on financial news articles. It was created by Prosus AI using the original BERT base model from Google.\n",
    "\n",
    "Unlike general-purpose sentiment models, FinBERT is trained on financial language, which helps it understand domain-specific words and phrasing."
   ]
  },
  {
   "cell_type": "code",
   "execution_count": 1,
   "id": "6c4c786e-6651-4663-b859-f56aec68c9a7",
   "metadata": {},
   "outputs": [],
   "source": [
    "import warnings\n",
    "warnings.filterwarnings('ignore')"
   ]
  },
  {
   "cell_type": "code",
   "execution_count": 2,
   "id": "7a0a9547-83ad-4352-be25-d0e60be59c51",
   "metadata": {},
   "outputs": [],
   "source": [
    "!pip install -q numpy yfinance transformers torch pandas matplotlib"
   ]
  },
  {
   "cell_type": "code",
   "execution_count": 3,
   "id": "27c0a96c-b542-4dde-9be4-b3844a05c39f",
   "metadata": {},
   "outputs": [],
   "source": [
    "import pandas as pd\n",
    "from transformers import pipeline, AutoTokenizer, AutoModelForSequenceClassification\n",
    "import matplotlib.pyplot as plt\n",
    "import yfinance as yf\n",
    "plt.style.use(\"dark_background\")"
   ]
  },
  {
   "cell_type": "code",
   "execution_count": 4,
   "id": "d7e14bd2-106e-4be5-b3ac-ec5fb7b52a3d",
   "metadata": {},
   "outputs": [
    {
     "data": {
      "application/vnd.jupyter.widget-view+json": {
       "model_id": "bf025a32aa3a44e5a093d4aba4cf2af3",
       "version_major": 2,
       "version_minor": 0
      },
      "text/plain": [
       "tokenizer_config.json:   0%|          | 0.00/252 [00:00<?, ?B/s]"
      ]
     },
     "metadata": {},
     "output_type": "display_data"
    },
    {
     "data": {
      "application/vnd.jupyter.widget-view+json": {
       "model_id": "71122c3ad68c474fb8e8e5c42a6ead0f",
       "version_major": 2,
       "version_minor": 0
      },
      "text/plain": [
       "config.json:   0%|          | 0.00/758 [00:00<?, ?B/s]"
      ]
     },
     "metadata": {},
     "output_type": "display_data"
    },
    {
     "data": {
      "application/vnd.jupyter.widget-view+json": {
       "model_id": "e4635ad33e4746c69a07e99a217f6d52",
       "version_major": 2,
       "version_minor": 0
      },
      "text/plain": [
       "vocab.txt:   0%|          | 0.00/232k [00:00<?, ?B/s]"
      ]
     },
     "metadata": {},
     "output_type": "display_data"
    },
    {
     "data": {
      "application/vnd.jupyter.widget-view+json": {
       "model_id": "ada1cb0061454a9bb49efccb08ea24e8",
       "version_major": 2,
       "version_minor": 0
      },
      "text/plain": [
       "special_tokens_map.json:   0%|          | 0.00/112 [00:00<?, ?B/s]"
      ]
     },
     "metadata": {},
     "output_type": "display_data"
    },
    {
     "name": "stderr",
     "output_type": "stream",
     "text": [
      "Xet Storage is enabled for this repo, but the 'hf_xet' package is not installed. Falling back to regular HTTP download. For better performance, install the package with: `pip install huggingface_hub[hf_xet]` or `pip install hf_xet`\n"
     ]
    },
    {
     "data": {
      "application/vnd.jupyter.widget-view+json": {
       "model_id": "25498386c1aa4849bb9253e491a62d74",
       "version_major": 2,
       "version_minor": 0
      },
      "text/plain": [
       "pytorch_model.bin:   0%|          | 0.00/438M [00:00<?, ?B/s]"
      ]
     },
     "metadata": {},
     "output_type": "display_data"
    },
    {
     "name": "stderr",
     "output_type": "stream",
     "text": [
      "Device set to use cpu\n",
      "Xet Storage is enabled for this repo, but the 'hf_xet' package is not installed. Falling back to regular HTTP download. For better performance, install the package with: `pip install huggingface_hub[hf_xet]` or `pip install hf_xet`\n"
     ]
    },
    {
     "data": {
      "application/vnd.jupyter.widget-view+json": {
       "model_id": "ece914f703174d5193c38a8124db7917",
       "version_major": 2,
       "version_minor": 0
      },
      "text/plain": [
       "model.safetensors:   0%|          | 0.00/438M [00:00<?, ?B/s]"
      ]
     },
     "metadata": {},
     "output_type": "display_data"
    }
   ],
   "source": [
    "# Load FinBERT for sentiment analysis\n",
    "model_name = \"ProsusAI/finbert\"\n",
    "tokenizer = AutoTokenizer.from_pretrained(model_name)\n",
    "model = AutoModelForSequenceClassification.from_pretrained(model_name)\n",
    "classifier = pipeline(\"sentiment-analysis\", model=model, tokenizer=tokenizer)"
   ]
  },
  {
   "cell_type": "code",
   "execution_count": 5,
   "id": "63a4bc4e-46d6-49ff-ac96-b0a8701bdeed",
   "metadata": {},
   "outputs": [],
   "source": [
    "ticker = \"META\"  # Example ticker symbol\n",
    "dat = yf.Ticker(ticker)\n",
    "news = dat.news"
   ]
  },
  {
   "cell_type": "code",
   "execution_count": 6,
   "id": "2a3ead06-ce17-42e6-86aa-dcc7aa8d31f6",
   "metadata": {},
   "outputs": [
    {
     "data": {
      "text/html": [
       "<div>\n",
       "<style scoped>\n",
       "    .dataframe tbody tr th:only-of-type {\n",
       "        vertical-align: middle;\n",
       "    }\n",
       "\n",
       "    .dataframe tbody tr th {\n",
       "        vertical-align: top;\n",
       "    }\n",
       "\n",
       "    .dataframe thead th {\n",
       "        text-align: right;\n",
       "    }\n",
       "</style>\n",
       "<table border=\"1\" class=\"dataframe\">\n",
       "  <thead>\n",
       "    <tr style=\"text-align: right;\">\n",
       "      <th></th>\n",
       "      <th>title</th>\n",
       "      <th>summary</th>\n",
       "      <th>pubDate</th>\n",
       "    </tr>\n",
       "  </thead>\n",
       "  <tbody>\n",
       "    <tr>\n",
       "      <th>0</th>\n",
       "      <td>Why the tech trade is still 'alive and well'</td>\n",
       "      <td>Big Tech names keep leading market gains with ...</td>\n",
       "      <td>2025-06-08T12:00:46Z</td>\n",
       "    </tr>\n",
       "    <tr>\n",
       "      <th>1</th>\n",
       "      <td>2 Artificial Intelligence (AI) Stocks to Buy a...</td>\n",
       "      <td>AI is expected to add trillions of dollars in ...</td>\n",
       "      <td>2025-06-08T09:40:00Z</td>\n",
       "    </tr>\n",
       "    <tr>\n",
       "      <th>2</th>\n",
       "      <td>Value Meets Growth: 3 Artificial Intelligence ...</td>\n",
       "      <td>This social media company could leverage its d...</td>\n",
       "      <td>2025-06-08T08:35:00Z</td>\n",
       "    </tr>\n",
       "    <tr>\n",
       "      <th>3</th>\n",
       "      <td>Meta in talks over Scale AI investment that co...</td>\n",
       "      <td>Scale AI declined to comment and Meta did not ...</td>\n",
       "      <td>2025-06-08T05:58:02Z</td>\n",
       "    </tr>\n",
       "    <tr>\n",
       "      <th>4</th>\n",
       "      <td>Meta in talks for Scale AI investment that cou...</td>\n",
       "      <td>(Bloomberg) -- Meta Platforms Inc. is in talks...</td>\n",
       "      <td>2025-06-08T05:34:58Z</td>\n",
       "    </tr>\n",
       "    <tr>\n",
       "      <th>5</th>\n",
       "      <td>Corporate Cash Levels Are Starting to Fall</td>\n",
       "      <td>(Bloomberg) -- The latest earnings period brou...</td>\n",
       "      <td>2025-06-07T19:00:00Z</td>\n",
       "    </tr>\n",
       "    <tr>\n",
       "      <th>6</th>\n",
       "      <td>WWDC to focus on redesigns as Apple remains si...</td>\n",
       "      <td>Apple’s (AAPL) upcoming Worldwide Developers C...</td>\n",
       "      <td>2025-06-07T14:20:21Z</td>\n",
       "    </tr>\n",
       "    <tr>\n",
       "      <th>7</th>\n",
       "      <td>Prediction: Meta Platforms Will Be a $3 Trilli...</td>\n",
       "      <td>Meta Platforms has several initiatives to grow...</td>\n",
       "      <td>2025-06-07T09:30:00Z</td>\n",
       "    </tr>\n",
       "    <tr>\n",
       "      <th>8</th>\n",
       "      <td>Up 725% in 10 Years: Why This Could Be Wall St...</td>\n",
       "      <td>All of the factors align for this company to s...</td>\n",
       "      <td>2025-06-07T08:20:00Z</td>\n",
       "    </tr>\n",
       "    <tr>\n",
       "      <th>9</th>\n",
       "      <td>Why Centrus Energy Stock Soared Higher This Week</td>\n",
       "      <td>Meta Platforms signed a massive 20-year deal w...</td>\n",
       "      <td>2025-06-06T18:42:39Z</td>\n",
       "    </tr>\n",
       "  </tbody>\n",
       "</table>\n",
       "</div>"
      ],
      "text/plain": [
       "                                               title  \\\n",
       "0       Why the tech trade is still 'alive and well'   \n",
       "1  2 Artificial Intelligence (AI) Stocks to Buy a...   \n",
       "2  Value Meets Growth: 3 Artificial Intelligence ...   \n",
       "3  Meta in talks over Scale AI investment that co...   \n",
       "4  Meta in talks for Scale AI investment that cou...   \n",
       "5         Corporate Cash Levels Are Starting to Fall   \n",
       "6  WWDC to focus on redesigns as Apple remains si...   \n",
       "7  Prediction: Meta Platforms Will Be a $3 Trilli...   \n",
       "8  Up 725% in 10 Years: Why This Could Be Wall St...   \n",
       "9   Why Centrus Energy Stock Soared Higher This Week   \n",
       "\n",
       "                                             summary               pubDate  \n",
       "0  Big Tech names keep leading market gains with ...  2025-06-08T12:00:46Z  \n",
       "1  AI is expected to add trillions of dollars in ...  2025-06-08T09:40:00Z  \n",
       "2  This social media company could leverage its d...  2025-06-08T08:35:00Z  \n",
       "3  Scale AI declined to comment and Meta did not ...  2025-06-08T05:58:02Z  \n",
       "4  (Bloomberg) -- Meta Platforms Inc. is in talks...  2025-06-08T05:34:58Z  \n",
       "5  (Bloomberg) -- The latest earnings period brou...  2025-06-07T19:00:00Z  \n",
       "6  Apple’s (AAPL) upcoming Worldwide Developers C...  2025-06-07T14:20:21Z  \n",
       "7  Meta Platforms has several initiatives to grow...  2025-06-07T09:30:00Z  \n",
       "8  All of the factors align for this company to s...  2025-06-07T08:20:00Z  \n",
       "9  Meta Platforms signed a massive 20-year deal w...  2025-06-06T18:42:39Z  "
      ]
     },
     "execution_count": 6,
     "metadata": {},
     "output_type": "execute_result"
    }
   ],
   "source": [
    "# Extract 'content' part into a DataFrame\n",
    "df = pd.DataFrame([item[\"content\"] for item in news])\n",
    "\n",
    "# Keep only desired columns\n",
    "columns_to_keep = ['title', 'summary', 'pubDate']\n",
    "df = df[columns_to_keep]\n",
    "\n",
    "# Display result\n",
    "df.head(100)"
   ]
  },
  {
   "cell_type": "code",
   "execution_count": 7,
   "id": "3e6bb27b-45de-433b-9264-7501d961e3af",
   "metadata": {},
   "outputs": [
    {
     "data": {
      "text/html": [
       "<div>\n",
       "<style scoped>\n",
       "    .dataframe tbody tr th:only-of-type {\n",
       "        vertical-align: middle;\n",
       "    }\n",
       "\n",
       "    .dataframe tbody tr th {\n",
       "        vertical-align: top;\n",
       "    }\n",
       "\n",
       "    .dataframe thead th {\n",
       "        text-align: right;\n",
       "    }\n",
       "</style>\n",
       "<table border=\"1\" class=\"dataframe\">\n",
       "  <thead>\n",
       "    <tr style=\"text-align: right;\">\n",
       "      <th></th>\n",
       "      <th>title</th>\n",
       "      <th>summary</th>\n",
       "      <th>pubDate</th>\n",
       "      <th>sentiment</th>\n",
       "      <th>confidence</th>\n",
       "    </tr>\n",
       "  </thead>\n",
       "  <tbody>\n",
       "    <tr>\n",
       "      <th>0</th>\n",
       "      <td>Why the tech trade is still 'alive and well'</td>\n",
       "      <td>Big Tech names keep leading market gains with ...</td>\n",
       "      <td>2025-06-08T12:00:46Z</td>\n",
       "      <td>neutral</td>\n",
       "      <td>0.721158</td>\n",
       "    </tr>\n",
       "    <tr>\n",
       "      <th>1</th>\n",
       "      <td>2 Artificial Intelligence (AI) Stocks to Buy a...</td>\n",
       "      <td>AI is expected to add trillions of dollars in ...</td>\n",
       "      <td>2025-06-08T09:40:00Z</td>\n",
       "      <td>positive</td>\n",
       "      <td>0.935224</td>\n",
       "    </tr>\n",
       "    <tr>\n",
       "      <th>2</th>\n",
       "      <td>Value Meets Growth: 3 Artificial Intelligence ...</td>\n",
       "      <td>This social media company could leverage its d...</td>\n",
       "      <td>2025-06-08T08:35:00Z</td>\n",
       "      <td>neutral</td>\n",
       "      <td>0.875516</td>\n",
       "    </tr>\n",
       "    <tr>\n",
       "      <th>3</th>\n",
       "      <td>Meta in talks over Scale AI investment that co...</td>\n",
       "      <td>Scale AI declined to comment and Meta did not ...</td>\n",
       "      <td>2025-06-08T05:58:02Z</td>\n",
       "      <td>neutral</td>\n",
       "      <td>0.938430</td>\n",
       "    </tr>\n",
       "    <tr>\n",
       "      <th>4</th>\n",
       "      <td>Meta in talks for Scale AI investment that cou...</td>\n",
       "      <td>(Bloomberg) -- Meta Platforms Inc. is in talks...</td>\n",
       "      <td>2025-06-08T05:34:58Z</td>\n",
       "      <td>neutral</td>\n",
       "      <td>0.717743</td>\n",
       "    </tr>\n",
       "  </tbody>\n",
       "</table>\n",
       "</div>"
      ],
      "text/plain": [
       "                                               title  \\\n",
       "0       Why the tech trade is still 'alive and well'   \n",
       "1  2 Artificial Intelligence (AI) Stocks to Buy a...   \n",
       "2  Value Meets Growth: 3 Artificial Intelligence ...   \n",
       "3  Meta in talks over Scale AI investment that co...   \n",
       "4  Meta in talks for Scale AI investment that cou...   \n",
       "\n",
       "                                             summary               pubDate  \\\n",
       "0  Big Tech names keep leading market gains with ...  2025-06-08T12:00:46Z   \n",
       "1  AI is expected to add trillions of dollars in ...  2025-06-08T09:40:00Z   \n",
       "2  This social media company could leverage its d...  2025-06-08T08:35:00Z   \n",
       "3  Scale AI declined to comment and Meta did not ...  2025-06-08T05:58:02Z   \n",
       "4  (Bloomberg) -- Meta Platforms Inc. is in talks...  2025-06-08T05:34:58Z   \n",
       "\n",
       "  sentiment  confidence  \n",
       "0   neutral    0.721158  \n",
       "1  positive    0.935224  \n",
       "2   neutral    0.875516  \n",
       "3   neutral    0.938430  \n",
       "4   neutral    0.717743  "
      ]
     },
     "execution_count": 7,
     "metadata": {},
     "output_type": "execute_result"
    }
   ],
   "source": [
    "# Performing Sentiment Analysis\n",
    "df[\"sentiment\"] = df[\"summary\"].apply(lambda x: classifier(x)[0]['label'])\n",
    "df[\"confidence\"] = df[\"summary\"].apply(lambda x: classifier(x)[0]['score'])\n",
    "\n",
    "# Optional: Clean up label casing\n",
    "df[\"sentiment\"] = df[\"sentiment\"].str.lower()\n",
    "df.head()"
   ]
  },
  {
   "cell_type": "code",
   "execution_count": 8,
   "id": "a6ac602e-4928-48f9-8643-771f48df7615",
   "metadata": {},
   "outputs": [
    {
     "name": "stdout",
     "output_type": "stream",
     "text": [
      "Saved sentiment results to META_news_sentiment.csv\n"
     ]
    }
   ],
   "source": [
    "# Save to CSV\n",
    "filename = f\"{ticker}_news_sentiment.csv\"\n",
    "df.to_csv(filename, index=False)\n",
    "print(f\"Saved sentiment results to {filename}\")"
   ]
  },
  {
   "cell_type": "code",
   "execution_count": 9,
   "id": "ccad9063-032f-49a3-98ed-0fdc9ee66981",
   "metadata": {},
   "outputs": [
    {
     "data": {
      "image/png": "[encoded data removed]",
      "text/plain": [
       "<Figure size 640x480 with 1 Axes>"
      ]
     },
     "metadata": {},
     "output_type": "display_data"
    }
   ],
   "source": [
    "# Visualize sentiment\n",
    "sentiment_counts = df[\"sentiment\"].value_counts()\n",
    "sentiment_counts.plot(kind=\"bar\", title=f\"{ticker} News Sentiment\", color=[\"blue\", \"green\", \"red\"])\n",
    "plt.ylabel(\"Count\")\n",
    "plt.xticks(rotation=0)  # Set x-axis labels to horizontal\n",
    "plt.tight_layout()      # Adjust layout to prevent clipping\n",
    "plt.savefig(f\"{ticker}_sentiment_counts.png\")\n",
    "plt.show()"
   ]
  }
 ],
 "metadata": {
  "kernelspec": {
   "display_name": "Python 3 (ipykernel)",
   "language": "python",
   "name": "python3"
  },
  "language_info": {
   "codemirror_mode": {
    "name": "ipython",
    "version": 3
   },
   "file_extension": ".py",
   "mimetype": "text/x-python",
   "name": "python",
   "nbconvert_exporter": "python",
   "pygments_lexer": "ipython3",
   "version": "3.12.4"
  }
 },
 "nbformat": 4,
 "nbformat_minor": 5
}
